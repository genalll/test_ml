{
 "cells": [
  {
   "cell_type": "markdown",
   "id": "c479fc9e",
   "metadata": {},
   "source": [
    "# Классификация отзывов к фильмам по рейтингу и позитивности"
   ]
  },
  {
   "cell_type": "code",
   "execution_count": null,
   "id": "ca434cf9",
   "metadata": {},
   "outputs": [],
   "source": [
    "!pip install nltk\n",
    "from sklearn.feature_extraction.text import CountVectorizer\n",
    "from sklearn.ensemble import RandomForestClassifier  \n",
    "import pandas as pd\n",
    "import numpy as np\n",
    "import nltk\n",
    "import re\n",
    "import matplotlib.pyplot as plt\n",
    "import seaborn as sns\n",
    "import os \n",
    "from tensorflow import keras\n",
    "import tensorflow as tf \n",
    "import tensorflow as tf \n",
    "from keras import models\n",
    "from keras import layers\n",
    "from sklearn.metrics import classification_report\n",
    "from sklearn.preprocessing import StandardScaler\n",
    "from sklearn.ensemble import RandomForestClassifier\n",
    "from sklearn.naive_bayes import GaussianNB"
   ]
  },
  {
   "cell_type": "code",
   "execution_count": 2,
   "id": "b318b009",
   "metadata": {},
   "outputs": [],
   "source": [
    "data=[]\n"
   ]
  },
  {
   "cell_type": "code",
   "execution_count": 3,
   "id": "46f8deca",
   "metadata": {
    "scrolled": true
   },
   "outputs": [],
   "source": [
    "for filename in os.listdir('aclImdb/train/neg'):\n",
    "    id=filename.split('.')[0].split('_')[0]\n",
    "    rat=filename.split('.')[0].split('_')[1]\n",
    "    #str=\n",
    "    with open(\"aclImdb/train/neg/\"+filename) as file_in:\n",
    "        lines = []\n",
    "        for line in file_in:\n",
    "            lines.append(line)\n",
    "            lines=''.join(lines)\n",
    "    data.append([id,lines,rat,'neg'])\n",
    "\n",
    "    "
   ]
  },
  {
   "cell_type": "code",
   "execution_count": 4,
   "id": "57a1142b",
   "metadata": {},
   "outputs": [],
   "source": [
    "for filename in os.listdir('aclImdb/train/pos'):\n",
    "    id=filename.split('.')[0].split('_')[0]\n",
    "    rat=filename.split('.')[0].split('_')[1]\n",
    "    #str=\n",
    "    with open(\"aclImdb/train/pos/\"+filename) as file_in:\n",
    "        lines = []\n",
    "        for line in file_in:\n",
    "            lines.append(line)\n",
    "            lines=''.join(lines)\n",
    "    data.append([id,lines,rat,'pos'])"
   ]
  },
  {
   "cell_type": "code",
   "execution_count": 5,
   "id": "53c81e43",
   "metadata": {},
   "outputs": [
    {
     "data": {
      "text/html": [
       "<div>\n",
       "<style scoped>\n",
       "    .dataframe tbody tr th:only-of-type {\n",
       "        vertical-align: middle;\n",
       "    }\n",
       "\n",
       "    .dataframe tbody tr th {\n",
       "        vertical-align: top;\n",
       "    }\n",
       "\n",
       "    .dataframe thead th {\n",
       "        text-align: right;\n",
       "    }\n",
       "</style>\n",
       "<table border=\"1\" class=\"dataframe\">\n",
       "  <thead>\n",
       "    <tr style=\"text-align: right;\">\n",
       "      <th></th>\n",
       "      <th>0</th>\n",
       "      <th>1</th>\n",
       "      <th>2</th>\n",
       "      <th>3</th>\n",
       "    </tr>\n",
       "  </thead>\n",
       "  <tbody>\n",
       "    <tr>\n",
       "      <th>0</th>\n",
       "      <td>3001</td>\n",
       "      <td>Slaughter High the tale of revenge by a nerdy ...</td>\n",
       "      <td>3</td>\n",
       "      <td>neg</td>\n",
       "    </tr>\n",
       "    <tr>\n",
       "      <th>1</th>\n",
       "      <td>11959</td>\n",
       "      <td>This film is a twisted nonsense of a movie, se...</td>\n",
       "      <td>2</td>\n",
       "      <td>neg</td>\n",
       "    </tr>\n",
       "    <tr>\n",
       "      <th>2</th>\n",
       "      <td>8938</td>\n",
       "      <td>I still can't believe how bad this movie was. ...</td>\n",
       "      <td>2</td>\n",
       "      <td>neg</td>\n",
       "    </tr>\n",
       "    <tr>\n",
       "      <th>3</th>\n",
       "      <td>9869</td>\n",
       "      <td>Didn't care for the movie, the book was better...</td>\n",
       "      <td>3</td>\n",
       "      <td>neg</td>\n",
       "    </tr>\n",
       "    <tr>\n",
       "      <th>4</th>\n",
       "      <td>2812</td>\n",
       "      <td>I saw this film recently in a film festival. I...</td>\n",
       "      <td>2</td>\n",
       "      <td>neg</td>\n",
       "    </tr>\n",
       "    <tr>\n",
       "      <th>...</th>\n",
       "      <td>...</td>\n",
       "      <td>...</td>\n",
       "      <td>...</td>\n",
       "      <td>...</td>\n",
       "    </tr>\n",
       "    <tr>\n",
       "      <th>24995</th>\n",
       "      <td>3284</td>\n",
       "      <td>My name is John Mourby and this is my story ab...</td>\n",
       "      <td>10</td>\n",
       "      <td>pos</td>\n",
       "    </tr>\n",
       "    <tr>\n",
       "      <th>24996</th>\n",
       "      <td>8235</td>\n",
       "      <td>Who says zombies can't be converted into usefu...</td>\n",
       "      <td>7</td>\n",
       "      <td>pos</td>\n",
       "    </tr>\n",
       "    <tr>\n",
       "      <th>24997</th>\n",
       "      <td>6867</td>\n",
       "      <td>I was born in 1982. Most of my childhood memor...</td>\n",
       "      <td>9</td>\n",
       "      <td>pos</td>\n",
       "    </tr>\n",
       "    <tr>\n",
       "      <th>24998</th>\n",
       "      <td>3954</td>\n",
       "      <td>Whenever people ask me to name the scariest mo...</td>\n",
       "      <td>9</td>\n",
       "      <td>pos</td>\n",
       "    </tr>\n",
       "    <tr>\n",
       "      <th>24999</th>\n",
       "      <td>3650</td>\n",
       "      <td>Sometimes, Lady Luck smiles on me. I had origi...</td>\n",
       "      <td>10</td>\n",
       "      <td>pos</td>\n",
       "    </tr>\n",
       "  </tbody>\n",
       "</table>\n",
       "<p>25000 rows × 4 columns</p>\n",
       "</div>"
      ],
      "text/plain": [
       "           0                                                  1   2    3\n",
       "0       3001  Slaughter High the tale of revenge by a nerdy ...   3  neg\n",
       "1      11959  This film is a twisted nonsense of a movie, se...   2  neg\n",
       "2       8938  I still can't believe how bad this movie was. ...   2  neg\n",
       "3       9869  Didn't care for the movie, the book was better...   3  neg\n",
       "4       2812  I saw this film recently in a film festival. I...   2  neg\n",
       "...      ...                                                ...  ..  ...\n",
       "24995   3284  My name is John Mourby and this is my story ab...  10  pos\n",
       "24996   8235  Who says zombies can't be converted into usefu...   7  pos\n",
       "24997   6867  I was born in 1982. Most of my childhood memor...   9  pos\n",
       "24998   3954  Whenever people ask me to name the scariest mo...   9  pos\n",
       "24999   3650  Sometimes, Lady Luck smiles on me. I had origi...  10  pos\n",
       "\n",
       "[25000 rows x 4 columns]"
      ]
     },
     "execution_count": 5,
     "metadata": {},
     "output_type": "execute_result"
    }
   ],
   "source": [
    "df = pd.DataFrame(data)\n",
    "df"
   ]
  },
  {
   "cell_type": "code",
   "execution_count": 6,
   "id": "5333eb2e",
   "metadata": {},
   "outputs": [
    {
     "data": {
      "text/html": [
       "<div>\n",
       "<style scoped>\n",
       "    .dataframe tbody tr th:only-of-type {\n",
       "        vertical-align: middle;\n",
       "    }\n",
       "\n",
       "    .dataframe tbody tr th {\n",
       "        vertical-align: top;\n",
       "    }\n",
       "\n",
       "    .dataframe thead th {\n",
       "        text-align: right;\n",
       "    }\n",
       "</style>\n",
       "<table border=\"1\" class=\"dataframe\">\n",
       "  <thead>\n",
       "    <tr style=\"text-align: right;\">\n",
       "      <th></th>\n",
       "      <th>id</th>\n",
       "      <th>str</th>\n",
       "      <th>rating</th>\n",
       "      <th>status</th>\n",
       "    </tr>\n",
       "  </thead>\n",
       "  <tbody>\n",
       "    <tr>\n",
       "      <th>0</th>\n",
       "      <td>3001</td>\n",
       "      <td>Slaughter High the tale of revenge by a nerdy ...</td>\n",
       "      <td>3</td>\n",
       "      <td>neg</td>\n",
       "    </tr>\n",
       "    <tr>\n",
       "      <th>1</th>\n",
       "      <td>11959</td>\n",
       "      <td>This film is a twisted nonsense of a movie, se...</td>\n",
       "      <td>2</td>\n",
       "      <td>neg</td>\n",
       "    </tr>\n",
       "    <tr>\n",
       "      <th>2</th>\n",
       "      <td>8938</td>\n",
       "      <td>I still can't believe how bad this movie was. ...</td>\n",
       "      <td>2</td>\n",
       "      <td>neg</td>\n",
       "    </tr>\n",
       "    <tr>\n",
       "      <th>3</th>\n",
       "      <td>9869</td>\n",
       "      <td>Didn't care for the movie, the book was better...</td>\n",
       "      <td>3</td>\n",
       "      <td>neg</td>\n",
       "    </tr>\n",
       "    <tr>\n",
       "      <th>4</th>\n",
       "      <td>2812</td>\n",
       "      <td>I saw this film recently in a film festival. I...</td>\n",
       "      <td>2</td>\n",
       "      <td>neg</td>\n",
       "    </tr>\n",
       "    <tr>\n",
       "      <th>...</th>\n",
       "      <td>...</td>\n",
       "      <td>...</td>\n",
       "      <td>...</td>\n",
       "      <td>...</td>\n",
       "    </tr>\n",
       "    <tr>\n",
       "      <th>24995</th>\n",
       "      <td>3284</td>\n",
       "      <td>My name is John Mourby and this is my story ab...</td>\n",
       "      <td>10</td>\n",
       "      <td>pos</td>\n",
       "    </tr>\n",
       "    <tr>\n",
       "      <th>24996</th>\n",
       "      <td>8235</td>\n",
       "      <td>Who says zombies can't be converted into usefu...</td>\n",
       "      <td>7</td>\n",
       "      <td>pos</td>\n",
       "    </tr>\n",
       "    <tr>\n",
       "      <th>24997</th>\n",
       "      <td>6867</td>\n",
       "      <td>I was born in 1982. Most of my childhood memor...</td>\n",
       "      <td>9</td>\n",
       "      <td>pos</td>\n",
       "    </tr>\n",
       "    <tr>\n",
       "      <th>24998</th>\n",
       "      <td>3954</td>\n",
       "      <td>Whenever people ask me to name the scariest mo...</td>\n",
       "      <td>9</td>\n",
       "      <td>pos</td>\n",
       "    </tr>\n",
       "    <tr>\n",
       "      <th>24999</th>\n",
       "      <td>3650</td>\n",
       "      <td>Sometimes, Lady Luck smiles on me. I had origi...</td>\n",
       "      <td>10</td>\n",
       "      <td>pos</td>\n",
       "    </tr>\n",
       "  </tbody>\n",
       "</table>\n",
       "<p>25000 rows × 4 columns</p>\n",
       "</div>"
      ],
      "text/plain": [
       "          id                                                str rating status\n",
       "0       3001  Slaughter High the tale of revenge by a nerdy ...      3    neg\n",
       "1      11959  This film is a twisted nonsense of a movie, se...      2    neg\n",
       "2       8938  I still can't believe how bad this movie was. ...      2    neg\n",
       "3       9869  Didn't care for the movie, the book was better...      3    neg\n",
       "4       2812  I saw this film recently in a film festival. I...      2    neg\n",
       "...      ...                                                ...    ...    ...\n",
       "24995   3284  My name is John Mourby and this is my story ab...     10    pos\n",
       "24996   8235  Who says zombies can't be converted into usefu...      7    pos\n",
       "24997   6867  I was born in 1982. Most of my childhood memor...      9    pos\n",
       "24998   3954  Whenever people ask me to name the scariest mo...      9    pos\n",
       "24999   3650  Sometimes, Lady Luck smiles on me. I had origi...     10    pos\n",
       "\n",
       "[25000 rows x 4 columns]"
      ]
     },
     "execution_count": 6,
     "metadata": {},
     "output_type": "execute_result"
    }
   ],
   "source": [
    "df = df.rename(columns={0: 'id', 1: 'str',2: 'rating',3: 'status',})\n",
    "df"
   ]
  },
  {
   "cell_type": "code",
   "execution_count": 7,
   "id": "d3668ba3",
   "metadata": {},
   "outputs": [],
   "source": [
    "df.to_csv('data.csv', index=False)\n"
   ]
  },
  {
   "cell_type": "code",
   "execution_count": 8,
   "id": "1da9fe42",
   "metadata": {},
   "outputs": [],
   "source": [
    "df['status']=df['status'].map({\n",
    "                               'neg':0,\n",
    "                               'pos':1,\n",
    "                                }) "
   ]
  },
  {
   "cell_type": "code",
   "execution_count": 9,
   "id": "1644b4b1",
   "metadata": {},
   "outputs": [
    {
     "name": "stdout",
     "output_type": "stream",
     "text": [
      "<class 'pandas.core.frame.DataFrame'>\n",
      "RangeIndex: 25000 entries, 0 to 24999\n",
      "Data columns (total 4 columns):\n",
      " #   Column  Non-Null Count  Dtype \n",
      "---  ------  --------------  ----- \n",
      " 0   id      25000 non-null  int64 \n",
      " 1   str     25000 non-null  object\n",
      " 2   rating  25000 non-null  int64 \n",
      " 3   status  25000 non-null  int64 \n",
      "dtypes: int64(3), object(1)\n",
      "memory usage: 781.4+ KB\n"
     ]
    }
   ],
   "source": [
    "df['rating'] = df['rating'].astype (int)\n",
    "df['id'] = df['id'].astype (int)\n",
    "df.info()"
   ]
  },
  {
   "cell_type": "code",
   "execution_count": 10,
   "id": "8905fd14",
   "metadata": {},
   "outputs": [
    {
     "name": "stderr",
     "output_type": "stream",
     "text": [
      "[nltk_data] Downloading package stopwords to\n",
      "[nltk_data]     /home/genalll/nltk_data...\n",
      "[nltk_data]   Package stopwords is already up-to-date!\n",
      "[nltk_data] Downloading package punkt to /home/genalll/nltk_data...\n",
      "[nltk_data]   Package punkt is already up-to-date!\n",
      "[nltk_data] Downloading package wordnet to /home/genalll/nltk_data...\n",
      "[nltk_data]   Package wordnet is already up-to-date!\n",
      "[nltk_data] Downloading package omw-1.4 to /home/genalll/nltk_data...\n",
      "[nltk_data]   Package omw-1.4 is already up-to-date!\n"
     ]
    }
   ],
   "source": [
    "nltk.download(\"stopwords\") # поддерживает удаление стоп-слов\n",
    "nltk.download('punkt') # делит текст на список предложений\n",
    "nltk.download('wordnet')\n",
    "nltk.download('omw-1.4')# проводит лемматизацию\n",
    "from nltk.corpus import stopwords"
   ]
  },
  {
   "cell_type": "code",
   "execution_count": 11,
   "id": "003934ff",
   "metadata": {},
   "outputs": [],
   "source": [
    "lemmatize = nltk.WordNetLemmatizer()\n",
    "from nltk.corpus import stopwords\n",
    "stopwords_ru = stopwords.words(\"english\")\n",
    "def text(df):\n",
    "    text=df['str']\n",
    "    text=re.sub(\"[^a-zA-Z]\",\" \",text)\n",
    "    text = nltk.word_tokenize(text,language = \"english\")\n",
    "    text = [lemmatize.lemmatize(word) for word in text]\n",
    "    text2=[]\n",
    "    for token in text:\n",
    "        if token and token not in stopwords_ru:\n",
    "            text2.append(token)\n",
    "    # лемматирзируем слова\n",
    "    # соединяем слова\n",
    "    text2 = \" \".join(text2)\n",
    "    return text2\n",
    "df['str']=df.apply(text,axis=1)\n",
    "\n",
    "    "
   ]
  },
  {
   "cell_type": "code",
   "execution_count": 12,
   "id": "4491e9bf",
   "metadata": {},
   "outputs": [
    {
     "data": {
      "text/html": [
       "<div>\n",
       "<style scoped>\n",
       "    .dataframe tbody tr th:only-of-type {\n",
       "        vertical-align: middle;\n",
       "    }\n",
       "\n",
       "    .dataframe tbody tr th {\n",
       "        vertical-align: top;\n",
       "    }\n",
       "\n",
       "    .dataframe thead th {\n",
       "        text-align: right;\n",
       "    }\n",
       "</style>\n",
       "<table border=\"1\" class=\"dataframe\">\n",
       "  <thead>\n",
       "    <tr style=\"text-align: right;\">\n",
       "      <th></th>\n",
       "      <th>id</th>\n",
       "      <th>str</th>\n",
       "      <th>rating</th>\n",
       "      <th>status</th>\n",
       "    </tr>\n",
       "  </thead>\n",
       "  <tbody>\n",
       "    <tr>\n",
       "      <th>0</th>\n",
       "      <td>3001</td>\n",
       "      <td>Slaughter High tale revenge nerdy guy fell vic...</td>\n",
       "      <td>3</td>\n",
       "      <td>0</td>\n",
       "    </tr>\n",
       "    <tr>\n",
       "      <th>1</th>\n",
       "      <td>11959</td>\n",
       "      <td>This film twisted nonsense movie set Japan dys...</td>\n",
       "      <td>2</td>\n",
       "      <td>0</td>\n",
       "    </tr>\n",
       "    <tr>\n",
       "      <th>2</th>\n",
       "      <td>8938</td>\n",
       "      <td>I still believe bad movie wa If I massochist I...</td>\n",
       "      <td>2</td>\n",
       "      <td>0</td>\n",
       "    </tr>\n",
       "    <tr>\n",
       "      <th>3</th>\n",
       "      <td>9869</td>\n",
       "      <td>Didn care movie book wa better Does anyone kno...</td>\n",
       "      <td>3</td>\n",
       "      <td>0</td>\n",
       "    </tr>\n",
       "    <tr>\n",
       "      <th>4</th>\n",
       "      <td>2812</td>\n",
       "      <td>I saw film recently film festival It romance e...</td>\n",
       "      <td>2</td>\n",
       "      <td>0</td>\n",
       "    </tr>\n",
       "    <tr>\n",
       "      <th>...</th>\n",
       "      <td>...</td>\n",
       "      <td>...</td>\n",
       "      <td>...</td>\n",
       "      <td>...</td>\n",
       "    </tr>\n",
       "    <tr>\n",
       "      <th>24995</th>\n",
       "      <td>3284</td>\n",
       "      <td>My name John Mourby story Paperhouse In May I ...</td>\n",
       "      <td>10</td>\n",
       "      <td>1</td>\n",
       "    </tr>\n",
       "    <tr>\n",
       "      <th>24996</th>\n",
       "      <td>8235</td>\n",
       "      <td>Who say zombie converted useful member communi...</td>\n",
       "      <td>7</td>\n",
       "      <td>1</td>\n",
       "    </tr>\n",
       "    <tr>\n",
       "      <th>24997</th>\n",
       "      <td>6867</td>\n",
       "      <td>I wa born Most childhood memory extreme late I...</td>\n",
       "      <td>9</td>\n",
       "      <td>1</td>\n",
       "    </tr>\n",
       "    <tr>\n",
       "      <th>24998</th>\n",
       "      <td>3954</td>\n",
       "      <td>Whenever people ask name scariest movie I ever...</td>\n",
       "      <td>9</td>\n",
       "      <td>1</td>\n",
       "    </tr>\n",
       "    <tr>\n",
       "      <th>24999</th>\n",
       "      <td>3650</td>\n",
       "      <td>Sometimes Lady Luck smile I originally made co...</td>\n",
       "      <td>10</td>\n",
       "      <td>1</td>\n",
       "    </tr>\n",
       "  </tbody>\n",
       "</table>\n",
       "<p>25000 rows × 4 columns</p>\n",
       "</div>"
      ],
      "text/plain": [
       "          id                                                str  rating  \\\n",
       "0       3001  Slaughter High tale revenge nerdy guy fell vic...       3   \n",
       "1      11959  This film twisted nonsense movie set Japan dys...       2   \n",
       "2       8938  I still believe bad movie wa If I massochist I...       2   \n",
       "3       9869  Didn care movie book wa better Does anyone kno...       3   \n",
       "4       2812  I saw film recently film festival It romance e...       2   \n",
       "...      ...                                                ...     ...   \n",
       "24995   3284  My name John Mourby story Paperhouse In May I ...      10   \n",
       "24996   8235  Who say zombie converted useful member communi...       7   \n",
       "24997   6867  I wa born Most childhood memory extreme late I...       9   \n",
       "24998   3954  Whenever people ask name scariest movie I ever...       9   \n",
       "24999   3650  Sometimes Lady Luck smile I originally made co...      10   \n",
       "\n",
       "       status  \n",
       "0           0  \n",
       "1           0  \n",
       "2           0  \n",
       "3           0  \n",
       "4           0  \n",
       "...       ...  \n",
       "24995       1  \n",
       "24996       1  \n",
       "24997       1  \n",
       "24998       1  \n",
       "24999       1  \n",
       "\n",
       "[25000 rows x 4 columns]"
      ]
     },
     "execution_count": 12,
     "metadata": {},
     "output_type": "execute_result"
    }
   ],
   "source": [
    "df"
   ]
  },
  {
   "cell_type": "code",
   "execution_count": 13,
   "id": "f7892311",
   "metadata": {},
   "outputs": [],
   "source": [
    "count = CountVectorizer()"
   ]
  },
  {
   "cell_type": "code",
   "execution_count": 14,
   "id": "a62b6798",
   "metadata": {},
   "outputs": [
    {
     "data": {
      "text/plain": [
       "(25000, 68294)"
      ]
     },
     "execution_count": 14,
     "metadata": {},
     "output_type": "execute_result"
    }
   ],
   "source": [
    "matrix = count.fit_transform(df['str']).toarray()\n",
    "matrix.shape"
   ]
  },
  {
   "cell_type": "code",
   "execution_count": 15,
   "id": "2791debd",
   "metadata": {},
   "outputs": [
    {
     "data": {
      "text/plain": [
       "(25000, 1000)"
      ]
     },
     "execution_count": 15,
     "metadata": {},
     "output_type": "execute_result"
    }
   ],
   "source": [
    "### Выбор признаков!\n",
    "from sklearn.feature_selection import SelectKBest, chi2\n",
    "\n",
    "select_class = SelectKBest(chi2,k=1000)\n",
    "\n",
    "matrix = select_class.fit_transform(matrix,df['rating'])\n",
    "\n",
    "matrix.shape\n"
   ]
  },
  {
   "cell_type": "markdown",
   "id": "94375464",
   "metadata": {},
   "source": [
    "# Создание тестового датасета!"
   ]
  },
  {
   "cell_type": "code",
   "execution_count": 16,
   "id": "683cfb02",
   "metadata": {},
   "outputs": [
    {
     "data": {
      "text/plain": [
       "(25000, 1000)"
      ]
     },
     "execution_count": 16,
     "metadata": {},
     "output_type": "execute_result"
    }
   ],
   "source": [
    "data_test=[]\n",
    "\n",
    "for filename in os.listdir('aclImdb/test/neg'):\n",
    "    id=filename.split('.')[0].split('_')[0]\n",
    "    rat=filename.split('.')[0].split('_')[1]\n",
    "    #str=\n",
    "    with open(\"aclImdb/test/neg/\"+filename) as file_in:\n",
    "        lines = []\n",
    "        for line in file_in:\n",
    "            lines.append(line)\n",
    "            lines=''.join(lines)\n",
    "    data_test.append([id,lines,rat,'neg'])\n",
    "\n",
    "for filename in os.listdir('aclImdb/test/pos'):\n",
    "    id=filename.split('.')[0].split('_')[0]\n",
    "    rat=filename.split('.')[0].split('_')[1]\n",
    "    #str=\n",
    "    with open(\"aclImdb/test/pos/\"+filename) as file_in:\n",
    "        lines = []\n",
    "        for line in file_in:\n",
    "            lines.append(line)\n",
    "            lines=''.join(lines)\n",
    "    data_test.append([id,lines,rat,'pos'])\n",
    "    \n",
    "df_test = pd.DataFrame(data_test)\n",
    "\n",
    "\n",
    "df_test = df_test.rename(columns={0: 'id', 1: 'str',2: 'rating',3: 'status',})\n",
    "\n",
    "df_test['status']=df_test['status'].map({\n",
    "                               'neg':0,\n",
    "                               'pos':1,\n",
    "                                }) \n",
    "\n",
    "df_test['rating'] =df_test['rating'].astype (int)\n",
    "df_test['id'] = df_test['id'].astype (int)\n",
    "\n",
    "\n",
    "\n",
    "\n",
    "df_test['str']=df_test.apply(text,axis=1)\n",
    "\n",
    "matrix_test = count.transform(df_test['str']).toarray()\n",
    "\n",
    "matrix_test = select_class.transform(matrix_test)\n",
    "matrix_test.shape"
   ]
  },
  {
   "cell_type": "markdown",
   "id": "caf28335",
   "metadata": {},
   "source": [
    "# scaler"
   ]
  },
  {
   "cell_type": "code",
   "execution_count": 17,
   "id": "668dff86",
   "metadata": {},
   "outputs": [],
   "source": [
    "scaler = StandardScaler()\n",
    "matrix = scaler.fit_transform(matrix,df['rating'])\n",
    "matrix_test = scaler.transform(matrix_test,)\n",
    "\n"
   ]
  },
  {
   "cell_type": "code",
   "execution_count": 18,
   "id": "f2b1ab25",
   "metadata": {},
   "outputs": [
    {
     "name": "stdout",
     "output_type": "stream",
     "text": [
      "              precision    recall  f1-score   support\n",
      "\n",
      "           1       0.30      0.73      0.42      5022\n",
      "           2       0.08      0.34      0.13      2302\n",
      "           3       0.11      0.05      0.07      2541\n",
      "           4       0.14      0.02      0.04      2635\n",
      "           7       0.14      0.03      0.05      2307\n",
      "           8       0.21      0.01      0.02      2850\n",
      "           9       0.17      0.04      0.06      2344\n",
      "          10       0.44      0.02      0.05      4999\n",
      "\n",
      "    accuracy                           0.20     25000\n",
      "   macro avg       0.20      0.16      0.10     25000\n",
      "weighted avg       0.23      0.20      0.13     25000\n",
      "\n"
     ]
    }
   ],
   "source": [
    "\n",
    "\n",
    "\n",
    "clf_nb=GaussianNB()\n",
    "clf_nb.fit(matrix,df['rating'])\n",
    "nb_pred =  clf_nb.predict(matrix_test)\n",
    "print (classification_report(df_test['rating'], nb_pred))"
   ]
  },
  {
   "cell_type": "code",
   "execution_count": 19,
   "id": "eb4b7a38",
   "metadata": {},
   "outputs": [
    {
     "name": "stdout",
     "output_type": "stream",
     "text": [
      "              precision    recall  f1-score   support\n",
      "\n",
      "           1       0.40      0.86      0.55      5022\n",
      "           2       0.27      0.00      0.01      2302\n",
      "           3       0.34      0.01      0.03      2541\n",
      "           4       0.33      0.05      0.09      2635\n",
      "           7       0.29      0.03      0.05      2307\n",
      "           8       0.24      0.04      0.07      2850\n",
      "           9       0.27      0.00      0.01      2344\n",
      "          10       0.34      0.88      0.49      4999\n",
      "\n",
      "    accuracy                           0.36     25000\n",
      "   macro avg       0.31      0.24      0.16     25000\n",
      "weighted avg       0.32      0.36      0.23     25000\n",
      "\n"
     ]
    }
   ],
   "source": [
    "clf_rf=RandomForestClassifier(max_depth=20,)\n",
    "clf_rf.fit(matrix,df['rating'])\n",
    "nb_pred =  clf_rf.predict(matrix_test)\n",
    "print (classification_report(df_test['rating'], nb_pred))"
   ]
  },
  {
   "cell_type": "markdown",
   "id": "a7975d85",
   "metadata": {},
   "source": [
    "# Сохранение скалера векторазера и кси"
   ]
  },
  {
   "cell_type": "code",
   "execution_count": 20,
   "id": "2b82f7a5",
   "metadata": {},
   "outputs": [],
   "source": [
    "import pickle\n",
    "\n",
    "\n",
    "pkl_filename = \"scaler.pkl\"\n",
    "with open(pkl_filename, 'wb') as file:\n",
    "    pickle.dump(scaler, file)\n",
    "with open(\"scaler.pkl\", \"rb\") as f:\n",
    "    scaler = pickle.load(f)\n",
    "    \n",
    "\n",
    "pkl_filename = \"count.pkl\"\n",
    "with open(pkl_filename, 'wb') as file:\n",
    "    pickle.dump(count, file)\n",
    "with open(\"count.pkl\", \"rb\") as f:\n",
    "    count = pickle.load(f)\n",
    "    \n",
    "pkl_filename = \"select_class.pkl\"\n",
    "with open(pkl_filename, 'wb') as file:\n",
    "    pickle.dump(select_class, file)\n",
    "with open(\"select_class.pkl\", \"rb\") as f:\n",
    "    select_class = pickle.load(f)"
   ]
  },
  {
   "cell_type": "markdown",
   "id": "37f7dfd3",
   "metadata": {},
   "source": [
    "## Нейронка!"
   ]
  },
  {
   "cell_type": "code",
   "execution_count": 21,
   "id": "fd3a9460",
   "metadata": {
    "scrolled": true
   },
   "outputs": [
    {
     "name": "stderr",
     "output_type": "stream",
     "text": [
      "2023-03-14 10:50:51.719490: E tensorflow/compiler/xla/stream_executor/cuda/cuda_driver.cc:267] failed call to cuInit: CUDA_ERROR_UNKNOWN: unknown error\n",
      "2023-03-14 10:50:51.722876: I tensorflow/compiler/xla/stream_executor/cuda/cuda_diagnostics.cc:156] kernel driver does not appear to be running on this host (genalll-ml): /proc/driver/nvidia/version does not exist\n",
      "2023-03-14 10:50:51.761074: I tensorflow/core/platform/cpu_feature_guard.cc:193] This TensorFlow binary is optimized with oneAPI Deep Neural Network Library (oneDNN) to use the following CPU instructions in performance-critical operations:  AVX2 FMA\n",
      "To enable them in other operations, rebuild TensorFlow with the appropriate compiler flags.\n"
     ]
    },
    {
     "name": "stdout",
     "output_type": "stream",
     "text": [
      "Epoch 1/4\n",
      "782/782 [==============================] - 10s 4ms/step - loss: 1.9692 - accuracy: 0.3372 - val_loss: 1.5482 - val_accuracy: 0.4074\n",
      "Epoch 2/4\n",
      "782/782 [==============================] - 3s 4ms/step - loss: 1.5335 - accuracy: 0.4198 - val_loss: 1.5209 - val_accuracy: 0.4088\n",
      "Epoch 3/4\n",
      "782/782 [==============================] - 3s 4ms/step - loss: 1.4659 - accuracy: 0.4365 - val_loss: 1.5144 - val_accuracy: 0.4156\n",
      "Epoch 4/4\n",
      "782/782 [==============================] - 3s 4ms/step - loss: 1.4295 - accuracy: 0.4464 - val_loss: 1.5223 - val_accuracy: 0.4161\n"
     ]
    }
   ],
   "source": [
    "\n",
    "\n",
    "\n",
    "def build_model():\n",
    "    model = tf.keras.Sequential([\n",
    "    tf.keras.layers.Dense(100,input_shape=(1000, )),\n",
    "    tf.keras.layers.Dropout(0.5),\n",
    "    tf.keras.layers.Dense(22, activation='relu'), \n",
    "    tf.keras.layers.Dense(11,activation='softmax')\n",
    "\n",
    "])\n",
    "    model.compile(optimizer='adam',loss=tf.keras.losses.SparseCategoricalCrossentropy(),metrics=['accuracy'])\n",
    "\n",
    "    return model\n",
    "\n",
    "model = build_model()\n",
    "\n",
    "\n",
    "history = model.fit(matrix,df['rating'],\n",
    "                    epochs=4, \n",
    "                    batch_size=32,\n",
    "                    validation_data=(matrix_test, df_test['rating']))\n",
    "\n",
    "\n",
    "\n",
    "\n",
    "\n"
   ]
  },
  {
   "cell_type": "code",
   "execution_count": 22,
   "id": "a5413b46",
   "metadata": {},
   "outputs": [
    {
     "name": "stdout",
     "output_type": "stream",
     "text": [
      "Model: \"sequential\"\n",
      "_________________________________________________________________\n",
      " Layer (type)                Output Shape              Param #   \n",
      "=================================================================\n",
      " dense (Dense)               (None, 100)               100100    \n",
      "                                                                 \n",
      " dropout (Dropout)           (None, 100)               0         \n",
      "                                                                 \n",
      " dense_1 (Dense)             (None, 22)                2222      \n",
      "                                                                 \n",
      " dense_2 (Dense)             (None, 11)                253       \n",
      "                                                                 \n",
      "=================================================================\n",
      "Total params: 102,575\n",
      "Trainable params: 102,575\n",
      "Non-trainable params: 0\n",
      "_________________________________________________________________\n"
     ]
    }
   ],
   "source": [
    "model.summary()"
   ]
  },
  {
   "cell_type": "code",
   "execution_count": 23,
   "id": "fa908a58",
   "metadata": {},
   "outputs": [
    {
     "data": {
      "image/png": "[encoded data removed]",
      "text/plain": [
       "<Figure size 800x800 with 2 Axes>"
      ]
     },
     "metadata": {},
     "output_type": "display_data"
    }
   ],
   "source": [
    "acc = history.history['accuracy']\n",
    "val_acc = history.history['val_accuracy']\n",
    "\n",
    "loss = history.history['loss']\n",
    "val_loss = history.history['val_loss']\n",
    "\n",
    "epochs_range = range(4)\n",
    "\n",
    "plt.figure(figsize=(8, 8))\n",
    "plt.subplot(1, 2, 1)\n",
    "plt.plot(epochs_range, acc, label='Training Accuracy')\n",
    "plt.plot(epochs_range, val_acc, label='Validation Accuracy')\n",
    "plt.legend(loc='lower right')\n",
    "plt.title('Training and Validation Accuracy')\n",
    "\n",
    "plt.subplot(1, 2, 2)\n",
    "plt.plot(epochs_range, loss, label='Training Loss')\n",
    "plt.plot(epochs_range, val_loss, label='Validation Loss')\n",
    "plt.legend(loc='upper right')\n",
    "plt.title('Training and Validation Loss')\n",
    "plt.show()"
   ]
  },
  {
   "cell_type": "code",
   "execution_count": 24,
   "id": "4b172923",
   "metadata": {},
   "outputs": [],
   "source": [
    "model.save('mod_klass5.h5', save_format='h5')\n",
    "model = keras.models.load_model('mod_klass5.h5')"
   ]
  },
  {
   "cell_type": "code",
   "execution_count": 25,
   "id": "947a99a0",
   "metadata": {},
   "outputs": [],
   "source": [
    "def text_for_pred(text):\n",
    "    text=re.sub(\"[^a-zA-Z]\",\" \",text)\n",
    "    text = nltk.word_tokenize(text,language = \"english\")\n",
    "    text = [lemmatize.lemmatize(word) for word in text]\n",
    "    # лемматирзируем слова\n",
    "    # соединяем слова\n",
    "    text = \" \".join(text)\n",
    "    text=pd.DataFrame({'as':[text],})\n",
    "    matrix = count.transform(text['as']).toarray()\n",
    "    matrix=select_class.transform(matrix)\n",
    "    matrix = scaler.transform(matrix)\n",
    "\n",
    "    return matrix\n",
    "    "
   ]
  },
  {
   "cell_type": "code",
   "execution_count": 26,
   "id": "06c4ea75",
   "metadata": {},
   "outputs": [
    {
     "name": "stdout",
     "output_type": "stream",
     "text": [
      "1/1 [==============================] - 0s 73ms/step\n",
      "Рейтинг 10\n"
     ]
    }
   ],
   "source": [
    "predictions = model.predict(text_for_pred('''\n",
    "\n",
    "<br /><br />What more can you ask for? A great screenplay based on one of the finest plays of the latter half of the 20th century, two fine emotional performances by Courtney and Finney, a realistic vision of war time london, a great supporting cast. This film takes you on an emotional rollercoaster through humour, sadness, loss and fulfillment. if you are in the theatre it is even more effective. This is a true 10 on the rating scale !\n",
    "\n",
    "\n",
    "'''))\n",
    "print('Рейтинг',np.argmax(predictions))"
   ]
  },
  {
   "cell_type": "code",
   "execution_count": 27,
   "id": "86351934",
   "metadata": {},
   "outputs": [
    {
     "data": {
      "text/plain": [
       "array([[4.03585741e-11, 1.83500629e-03, 1.44042622e-03, 2.05406500e-03,\n",
       "        4.58034873e-03, 3.90938162e-08, 1.71656271e-08, 2.58422662e-02,\n",
       "        1.17795445e-01, 1.97256848e-01, 6.49195611e-01]], dtype=float32)"
      ]
     },
     "execution_count": 27,
     "metadata": {},
     "output_type": "execute_result"
    }
   ],
   "source": [
    "predictions"
   ]
  },
  {
   "cell_type": "code",
   "execution_count": 28,
   "id": "93252ee9",
   "metadata": {},
   "outputs": [
    {
     "name": "stdout",
     "output_type": "stream",
     "text": [
      "Epoch 1/2\n",
      "3125/3125 [==============================] - 12s 3ms/step - loss: 0.4065 - accuracy: 0.8376 - val_loss: 0.3251 - val_accuracy: 0.8624\n",
      "Epoch 2/2\n",
      "3125/3125 [==============================] - 11s 3ms/step - loss: 0.3000 - accuracy: 0.8782 - val_loss: 0.3246 - val_accuracy: 0.8631\n"
     ]
    }
   ],
   "source": [
    "def build_model_bin():\n",
    "    model = tf.keras.Sequential([\n",
    "    tf.keras.layers.Dense(100,input_shape=(1000, )),\n",
    "    tf.keras.layers.Dropout(0.5),\n",
    "    tf.keras.layers.Dense(10, activation='relu'), \n",
    "    tf.keras.layers.Dense(1,activation='sigmoid')\n",
    "\n",
    "])\n",
    "    model.compile(optimizer='adam',loss='binary_crossentropy',metrics=['accuracy'])\n",
    "\n",
    "    return model\n",
    "\n",
    "model_bin = build_model_bin()\n",
    "\n",
    "\n",
    "history = model_bin.fit(matrix,df['status'],\n",
    "                    epochs=2, \n",
    "                    batch_size=8,\n",
    "                    validation_data=(matrix_test, df_test['status']))\n",
    "\n",
    "\n"
   ]
  },
  {
   "cell_type": "code",
   "execution_count": 29,
   "id": "60c6f1ba",
   "metadata": {},
   "outputs": [
    {
     "data": {
      "image/png": "[encoded data removed]",
      "text/plain": [
       "<Figure size 500x500 with 2 Axes>"
      ]
     },
     "metadata": {},
     "output_type": "display_data"
    }
   ],
   "source": [
    "acc = history.history['accuracy']\n",
    "val_acc = history.history['val_accuracy']\n",
    "\n",
    "loss = history.history['loss']\n",
    "val_loss = history.history['val_loss']\n",
    "\n",
    "epochs_range = range(2)\n",
    "\n",
    "plt.figure(figsize=(5, 5))\n",
    "plt.subplot(1, 2, 1)\n",
    "plt.plot(epochs_range, acc, label='Training Accuracy')\n",
    "plt.plot(epochs_range, val_acc, label='Validation Accuracy')\n",
    "plt.legend(loc='lower right')\n",
    "plt.title('Training and Validation Accuracy')\n",
    "\n",
    "plt.subplot(1, 2, 2)\n",
    "plt.plot(epochs_range, loss, label='Training Loss')\n",
    "plt.plot(epochs_range, val_loss, label='Validation Loss')\n",
    "plt.legend(loc='upper right')\n",
    "plt.title('Training and Validation Loss')\n",
    "plt.show()"
   ]
  },
  {
   "cell_type": "code",
   "execution_count": 30,
   "id": "ed64ea44",
   "metadata": {},
   "outputs": [],
   "source": [
    "model_bin.save('mod_klass_bin4.h5', save_format='h5')\n",
    "model_bin = keras.models.load_model('mod_klass_bin4.h5')"
   ]
  },
  {
   "cell_type": "markdown",
   "id": "9327ee40",
   "metadata": {},
   "source": [
    "# Проверка на тестовой выборке"
   ]
  },
  {
   "cell_type": "markdown",
   "id": "b32f05a7",
   "metadata": {},
   "source": [
    "## Рапорт для рейтинга!"
   ]
  },
  {
   "cell_type": "code",
   "execution_count": 31,
   "id": "7381700c",
   "metadata": {},
   "outputs": [
    {
     "name": "stdout",
     "output_type": "stream",
     "text": [
      "782/782 [==============================] - 1s 1ms/step\n",
      "              precision    recall  f1-score   support\n",
      "\n",
      "           1       0.51      0.81      0.63      5022\n",
      "           2       0.17      0.02      0.03      2302\n",
      "           3       0.25      0.16      0.19      2541\n",
      "           4       0.29      0.33      0.31      2635\n",
      "           7       0.29      0.14      0.19      2307\n",
      "           8       0.28      0.31      0.29      2850\n",
      "           9       0.13      0.00      0.01      2344\n",
      "          10       0.48      0.76      0.59      4999\n",
      "\n",
      "    accuracy                           0.42     25000\n",
      "   macro avg       0.30      0.32      0.28     25000\n",
      "weighted avg       0.34      0.42      0.35     25000\n",
      "\n"
     ]
    }
   ],
   "source": [
    "predictions = model.predict(matrix_test)\n",
    "\n",
    "pre=[]\n",
    "for i in predictions:\n",
    "    pre.append(np.argmax(i))\n",
    " \n",
    "\n",
    "\n",
    "print (classification_report(df_test['rating'], pre))"
   ]
  },
  {
   "cell_type": "markdown",
   "id": "a1e89f97",
   "metadata": {},
   "source": [
    "## Рапорт для негатив и позитив"
   ]
  },
  {
   "cell_type": "code",
   "execution_count": 32,
   "id": "79293e25",
   "metadata": {},
   "outputs": [
    {
     "name": "stdout",
     "output_type": "stream",
     "text": [
      "782/782 [==============================] - 1s 1ms/step\n",
      "              precision    recall  f1-score   support\n",
      "\n",
      "           0       0.87      0.85      0.86     12500\n",
      "           1       0.86      0.87      0.86     12500\n",
      "\n",
      "    accuracy                           0.86     25000\n",
      "   macro avg       0.86      0.86      0.86     25000\n",
      "weighted avg       0.86      0.86      0.86     25000\n",
      "\n"
     ]
    }
   ],
   "source": [
    "predictions = model_bin.predict(matrix_test)\n",
    "\n",
    "pre=[]\n",
    "for i in predictions:\n",
    "    if i<0.5:\n",
    "        pre.append(0)\n",
    "    else:\n",
    "        pre.append(1)\n",
    "print (classification_report(df_test['status'], pre)) "
   ]
  },
  {
   "cell_type": "code",
   "execution_count": null,
   "id": "7f5d92a0",
   "metadata": {},
   "outputs": [],
   "source": []
  }
 ],
 "metadata": {
  "kernelspec": {
   "display_name": "Python 3 (ipykernel)",
   "language": "python",
   "name": "python3"
  },
  "language_info": {
   "codemirror_mode": {
    "name": "ipython",
    "version": 3
   },
   "file_extension": ".py",
   "mimetype": "text/x-python",
   "name": "python",
   "nbconvert_exporter": "python",
   "pygments_lexer": "ipython3",
   "version": "3.8.10"
  }
 },
 "nbformat": 4,
 "nbformat_minor": 5
}
